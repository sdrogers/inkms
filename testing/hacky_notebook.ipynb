{
 "cells": [
  {
   "cell_type": "code",
   "execution_count": 23,
   "metadata": {
    "collapsed": true
   },
   "outputs": [],
   "source": [
    "import pymzml\n",
    "import numpy as np\n",
    "import matplotlib.pyplot as plt\n",
    "from PIL import Image\n",
    "from numpy import eye\n",
    "\n",
    "\n",
    "def image(Z):\n",
    "    max = Z.max()\n",
    "    Z = Z / max * 255\n",
    "    Z = Z.astype('uint8')\n",
    "\n",
    "    img = Image.fromarray(Z)  # monochromatic image\n",
    "    img.show()\n",
    "    # img.save('my.png')\n",
    "    # imrgb = Image.merge('RGB', (img, img, img))  # color image\n",
    "    # imrgb.show()\n",
    "\n",
    "\n",
    "# max_mz, max_i = getPeak(spectrum)\n",
    "def getPeak(spectrum):\n",
    "    max_mz = spectrum.peaks[0][0]\n",
    "    max_i = spectrum.peaks[0][1]\n",
    "    for mz, i in spectrum.peaks:\n",
    "        if max_i < i:\n",
    "            max_i = i\n",
    "            max_mz = mz\n",
    "            # print(type(mz), type(i))  # float, float\n",
    "            # print(mz, i)\n",
    "    return [max_mz, max_i]\n",
    "\n",
    "\n",
    "# getSum(spectrum)\n",
    "def getSum(spectrum):\n",
    "    intensity = 0\n",
    "    for mz, i in spectrum.peaks:\n",
    "        intensity = intensity + i\n",
    "    return intensity\n",
    "\n",
    "\n",
    "lines = 8\n",
    "\n",
    "# Read File\n",
    "# run = pymzml.run.Reader('..\\\\data\\\\abcdefgh_1.mzML', MS1_Precision=5e-6)\n",
    "run = pymzml.run.Reader('/Users/simon/Dropbox/MS_Ink_Data/ALphabet/abcdefgh_1.mzML', MS1_Precision=5e-6)\n",
    "\n",
    "# -----------------------------------------------------------------------\n",
    "# Maximum peaks in 1d array\n",
    "scansTotal = 0\n",
    "\n",
    "for spectrum in run:\n",
    "    if type(spectrum['id']) == int:\n",
    "        scansTotal = scansTotal + 1\n",
    "    else:\n",
    "        print('skip')\n",
    "\n",
    "scansPerLine = scansTotal / lines  # 6327 , 8\n",
    "# if not scansPerLine.is_integer():\n",
    "#    raise Exception('Pixels per line not integer value')\n",
    "scansPerLine = int(scansPerLine)  # 790 : 6320\n",
    "remaining = scansTotal - lines * scansPerLine\n",
    "\n",
    "x = []\n",
    "t = []\n",
    "\n",
    "for index in range(1, scansTotal + 1):\n",
    "    spectrum = run[index]\n",
    "    spectrum.reduce(mzRange=(374, 376))\n",
    "    try:\n",
    "        intensity = getSum(spectrum)\n",
    "    except:\n",
    "        intensity = 0\n",
    "    x.append(0)\n",
    "    t.append(intensity)\n",
    "\n",
    "# -----------------------------------------------------------------------\n",
    "\n",
    "# data[line] = [[[m/z, value],...,[m/z, value]],[[m/z, value],]]\n",
    "data = []\n",
    "direction = True  # forward /  backward\n",
    "index = 0\n",
    "for line in range(0, lines):\n",
    "    data.append([])\n",
    "    if direction:\n",
    "        for i in range(0, scansPerLine):\n",
    "            data[line].append([x[index], t[index]])\n",
    "            index = index + 1\n",
    "    else:\n",
    "        for i in reversed(range(0, scansPerLine)):\n",
    "            data[line].append([x[index + i], t[index + i]])\n",
    "        index = index + scansPerLine\n",
    "\n",
    "    direction = not direction\n",
    "    if remaining >= 0:\n",
    "        remaining = remaining - 1\n",
    "        index = index + 1\n",
    "\n",
    "# -----------------------------------------------------------------------"
   ]
  },
  {
   "cell_type": "code",
   "execution_count": 24,
   "metadata": {
    "collapsed": false
   },
   "outputs": [
    {
     "name": "stdout",
     "output_type": "stream",
     "text": [
      "Finished\n"
     ]
    },
    {
     "data": {
      "image/png": "[encoded data removed]",
      "text/plain": [
       "<matplotlib.figure.Figure at 0x1108a5050>"
      ]
     },
     "metadata": {},
     "output_type": "display_data"
    }
   ],
   "source": [
    "np_data = np.array(data)\n",
    "Z = np_data[:, :, 1]\n",
    "# image(Z)\n",
    "%matplotlib inline\n",
    "\n",
    "plt.figure()\n",
    "plt.imshow(Z,aspect=10,interpolation='none',cmap='hot')\n",
    "plt.savefig('test.png')\n",
    "# plt.show()\n",
    "print(\"Finished\")"
   ]
  },
  {
   "cell_type": "code",
   "execution_count": 21,
   "metadata": {
    "collapsed": false
   },
   "outputs": [
    {
     "data": {
      "text/plain": [
       "375.001875"
      ]
     },
     "execution_count": 21,
     "metadata": {},
     "output_type": "execute_result"
    }
   ],
   "source": [
    "375+5*(375/1e6)"
   ]
  },
  {
   "cell_type": "code",
   "execution_count": 22,
   "metadata": {
    "collapsed": false
   },
   "outputs": [
    {
     "data": {
      "text/plain": [
       "374.998125"
      ]
     },
     "execution_count": 22,
     "metadata": {},
     "output_type": "execute_result"
    }
   ],
   "source": [
    "375-5*(375/1e6)"
   ]
  },
  {
   "cell_type": "code",
   "execution_count": null,
   "metadata": {
    "collapsed": true
   },
   "outputs": [],
   "source": []
  }
 ],
 "metadata": {
  "kernelspec": {
   "display_name": "Python 3",
   "language": "python",
   "name": "python3"
  },
  "language_info": {
   "codemirror_mode": {
    "name": "ipython",
    "version": 3
   },
   "file_extension": ".py",
   "mimetype": "text/x-python",
   "name": "python",
   "nbconvert_exporter": "python",
   "pygments_lexer": "ipython3",
   "version": "3.5.1"
  }
 },
 "nbformat": 4,
 "nbformat_minor": 0
}
