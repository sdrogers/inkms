{
 "cells": [
  {
   "cell_type": "code",
   "execution_count": 1,
   "metadata": {
    "collapsed": true
   },
   "outputs": [],
   "source": [
    "import pymzml\n",
    "import numpy as np\n",
    "import matplotlib.pyplot as plt\n",
    "from PIL import Image\n",
    "from numpy import eye"
   ]
  },
  {
   "cell_type": "markdown",
   "metadata": {},
   "source": [
    "# Parameters"
   ]
  },
  {
   "cell_type": "code",
   "execution_count": 2,
   "metadata": {
    "collapsed": true
   },
   "outputs": [],
   "source": [
    "%matplotlib inline\n",
    "# filename = '/Users/simon/Dropbox/MS_Ink_Data/ALphabet/abcdefgh_1.mzML'\n",
    "filename = '..\\\\data\\\\abcdefgh_1.mzML'\n",
    "mzRangeLower = 374\n",
    "mzRangeHighest = 376\n",
    "lines = 8\n",
    "widthInMM = 62\n",
    "heightInMM = 10"
   ]
  },
  {
   "cell_type": "code",
   "execution_count": 3,
   "metadata": {
    "collapsed": false
   },
   "outputs": [
    {
     "name": "stdout",
     "output_type": "stream",
     "text": [
      "skip\n"
     ]
    }
   ],
   "source": [
    "def imageFromArray(Z):\n",
    "    max = Z.max()\n",
    "    Z = Z / max * 255\n",
    "    Z = Z.astype('uint8')\n",
    "\n",
    "    img = Image.fromarray(Z)  # monochromatic image\n",
    "    img.show()\n",
    "    # img.save('my.png')\n",
    "    # imrgb = Image.merge('RGB', (img, img, img))  # color image\n",
    "    # imrgb.show()\n",
    "\n",
    "\n",
    "# -----------------------------------------------------------------------\n",
    "# max_mz, max_i = getPeak(spectrum)\n",
    "def getPeak(spectrum):\n",
    "    max_mz = spectrum.peaks[0][0]\n",
    "    max_i = spectrum.peaks[0][1]\n",
    "    for mz, i in spectrum.peaks:\n",
    "        if max_i < i:\n",
    "            max_i = i\n",
    "            max_mz = mz\n",
    "            # print(type(mz), type(i))  # float, float\n",
    "            # print(mz, i)\n",
    "    return [max_mz, max_i]\n",
    "\n",
    "\n",
    "# getSum(spectrum)\n",
    "def getSum(spectrum):\n",
    "    intensity = 0\n",
    "    for mz, i in spectrum.peaks:\n",
    "        intensity = intensity + i\n",
    "    return intensity\n",
    "\n",
    "\n",
    "# -----------------------------------------------------------------------\n",
    "\n",
    "# Read File\n",
    "run = pymzml.run.Reader(filename, MS1_Precision=5e-6)\n",
    "\n",
    "# Maximum peaks in 1d array\n",
    "scansTotal = 0\n",
    "\n",
    "for spectrum in run:\n",
    "    if type(spectrum['id']) == int:\n",
    "        scansTotal = scansTotal + 1\n",
    "    else:\n",
    "        print('skip')\n",
    "\n",
    "scansPerLine = scansTotal / lines  # 6327 , 8\n",
    "# if not scansPerLine.is_integer():\n",
    "#    raise Exception('Pixels per line not integer value')\n",
    "scansPerLine = int(scansPerLine)  # 790 : 6320\n",
    "remaining = scansTotal - lines * scansPerLine\n",
    "\n",
    "x = []\n",
    "t = []\n",
    "\n",
    "for index in range(1, scansTotal + 1):\n",
    "    spectrum = run[index]\n",
    "    spectrum.reduce(mzRange=(mzRangeLower, mzRangeHighest))\n",
    "    try:\n",
    "        intensity = getSum(spectrum)\n",
    "    except:\n",
    "        intensity = 0\n",
    "    x.append(0)\n",
    "    t.append(intensity)\n",
    "\n",
    "# -----------------------------------------------------------------------\n",
    "\n",
    "# data[line] = [[[m/z, value],...,[m/z, value]],[[m/z, value],]]\n",
    "data = []\n",
    "direction = True  # forward /  backward\n",
    "index = 0\n",
    "for line in range(0, lines):\n",
    "    data.append([])\n",
    "    if direction:\n",
    "        for i in range(0, scansPerLine):\n",
    "            data[line].append([x[index], t[index]])\n",
    "            index = index + 1\n",
    "    else:\n",
    "        for i in reversed(range(0, scansPerLine)):\n",
    "            data[line].append([x[index + i], t[index + i]])\n",
    "        index = index + scansPerLine\n",
    "\n",
    "    direction = not direction\n",
    "    if remaining >= 0:\n",
    "        remaining = remaining - 1\n",
    "        index = index + 1\n",
    "\n",
    "# -----------------------------------------------------------------------\n",
    "\n",
    "np_data = np.array(data)\n",
    "Z = np_data[:, :, 1]\n",
    "# image(Z)"
   ]
  },
  {
   "cell_type": "code",
   "execution_count": 10,
   "metadata": {
    "collapsed": false
   },
   "outputs": [
    {
     "data": {
      "image/png": "[encoded data removed]",
      "text/plain": [
       "<matplotlib.figure.Figure at 0x2afbc614470>"
      ]
     },
     "metadata": {},
     "output_type": "display_data"
    },
    {
     "name": "stdout",
     "output_type": "stream",
     "text": [
      "Finished\n"
     ]
    }
   ],
   "source": [
    "plt.figure()\n",
    "plt.imshow(Z, extent=[0,widthInMM,0,heightInMM], interpolation='none', cmap='hot')\n",
    "# plt.savefig('test.png')\n",
    "plt.show()\n",
    "\n",
    "print(\"Finished\")"
   ]
  },
  {
   "cell_type": "code",
   "execution_count": null,
   "metadata": {
    "collapsed": true
   },
   "outputs": [],
   "source": []
  }
 ],
 "metadata": {
  "kernelspec": {
   "display_name": "Python 3",
   "language": "python",
   "name": "python3"
  },
  "language_info": {
   "codemirror_mode": {
    "name": "ipython",
    "version": 3
   },
   "file_extension": ".py",
   "mimetype": "text/x-python",
   "name": "python",
   "nbconvert_exporter": "python",
   "pygments_lexer": "ipython3",
   "version": "3.5.1"
  }
 },
 "nbformat": 4,
 "nbformat_minor": 0
}
