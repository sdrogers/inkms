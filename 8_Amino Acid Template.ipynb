{
 "cells": [
  {
   "cell_type": "code",
   "execution_count": 1,
   "metadata": {
    "collapsed": true
   },
   "outputs": [],
   "source": [
    "# coding: utf-8\n",
    "import sys\n",
    "import numpy as np\n",
    "import matplotlib.pyplot as plt\n",
    "from PIL import Image\n",
    "import time\n",
    "from numpy import eye\n",
    "from LoadMZML import LoadMZML\n",
    "from OptimalMz import OptimalMz\n",
    "from PlotImage import PlotImage\n",
    "from TemplateOverlay import TemplateOverlay\n",
    "% matplotlib inline"
   ]
  },
  {
   "cell_type": "markdown",
   "metadata": {},
   "source": [
    "# Parameters"
   ]
  },
  {
   "cell_type": "code",
   "execution_count": 2,
   "metadata": {
    "collapsed": true
   },
   "outputs": [],
   "source": [
    "class Parameters:\n",
    "    def __init__(self):\n",
    "        #  self.filename = '/Users/simon/Dropbox/MS_Ink_Data/ALphabet/abcdefgh_1.mzML'\n",
    "        self.filename = '..\\\\data\\\\AA_Array_2.mzML'\n",
    "        self.lines = 6\n",
    "        self.widthInMM = 50\n",
    "        self.heightInMM = 15\n",
    "        self.downMotionInMM = 3\n",
    "        \n",
    "template_path = '..\\\\data\\\\aminoacid.png'\n",
    "#template_path = '..\\\\data\\\\aminoacid_Cell1.png'\n",
    "generated_b = 4\n",
    "generated_e = 148\n",
    "template_b = 4\n",
    "template_e = 148\n",
    "plotValues = (104.75, 105.0)"
   ]
  },
  {
   "cell_type": "markdown",
   "metadata": {},
   "source": [
    "Used to find parameters"
   ]
  },
  {
   "cell_type": "code",
   "execution_count": 3,
   "metadata": {
    "collapsed": true
   },
   "outputs": [],
   "source": [
    "#PlotImage(loadMZML, param).save(\"aminoacid_gen\",plotValues)"
   ]
  },
  {
   "cell_type": "code",
   "execution_count": 4,
   "metadata": {
    "collapsed": false
   },
   "outputs": [],
   "source": [
    "param = Parameters()\n",
    "loadMZML = LoadMZML(param,'positive')\n",
    "plotImage = PlotImage(loadMZML, param)\n",
    "templateOverlay = TemplateOverlay(loadMZML, param)"
   ]
  },
  {
   "cell_type": "markdown",
   "metadata": {},
   "source": [
    "Template Image"
   ]
  },
  {
   "cell_type": "code",
   "execution_count": 5,
   "metadata": {
    "collapsed": false
   },
   "outputs": [
    {
     "data": {
      "text/plain": [
       "<matplotlib.image.AxesImage at 0x285c0c374e0>"
      ]
     },
     "execution_count": 5,
     "metadata": {},
     "output_type": "execute_result"
    },
    {
     "data": {
      "image/png": "[encoded data removed]",
      "text/plain": [
       "<matplotlib.figure.Figure at 0x285c0953048>"
      ]
     },
     "metadata": {},
     "output_type": "display_data"
    }
   ],
   "source": [
    "template = Image.open(template_path)\n",
    "plt.figure()\n",
    "plt.imshow(np.asarray(template), cmap='Greys_r')"
   ]
  },
  {
   "cell_type": "markdown",
   "metadata": {},
   "source": [
    "Black and White"
   ]
  },
  {
   "cell_type": "code",
   "execution_count": 6,
   "metadata": {
    "collapsed": false
   },
   "outputs": [
    {
     "data": {
      "text/plain": [
       "<matplotlib.image.AxesImage at 0x285c147ebe0>"
      ]
     },
     "execution_count": 6,
     "metadata": {},
     "output_type": "execute_result"
    },
    {
     "data": {
      "image/png": "[encoded data removed]",
      "text/plain": [
       "<matplotlib.figure.Figure at 0x285c0b9de10>"
      ]
     },
     "metadata": {},
     "output_type": "display_data"
    }
   ],
   "source": [
    "template = templateOverlay.RGBtoBW(template_path)\n",
    "plt.figure()\n",
    "plt.imshow(np.asarray(template), cmap='Greys_r')"
   ]
  },
  {
   "cell_type": "markdown",
   "metadata": {},
   "source": [
    "# Overlay template and generated"
   ]
  },
  {
   "cell_type": "code",
   "execution_count": 7,
   "metadata": {
    "collapsed": false
   },
   "outputs": [
    {
     "name": "stdout",
     "output_type": "stream",
     "text": [
      "100%\n",
      "5.44s\n"
     ]
    },
    {
     "data": {
      "text/plain": [
       "<matplotlib.image.AxesImage at 0x285c1445320>"
      ]
     },
     "execution_count": 7,
     "metadata": {},
     "output_type": "execute_result"
    },
    {
     "data": {
      "image/png": "[encoded data removed]",
      "text/plain": [
       "<matplotlib.figure.Figure at 0x285c14866d8>"
      ]
     },
     "metadata": {},
     "output_type": "display_data"
    }
   ],
   "source": [
    "template = templateOverlay.alignTemplate(generated_b, generated_e, template_b, template_e, template)\n",
    "generated = templateOverlay.alignGenerated(generated_b, generated_e, template_b, template_e, plotValues)\n",
    "template, generated = templateOverlay.alignment(template, generated)\n",
    "\n",
    "plt.figure()\n",
    "plt.imshow(np.asarray(generated), extent=[0, param.widthInMM, param.heightInMM, 0], interpolation='none', cmap='hot')\n",
    "plt.imshow(np.asarray(template), extent=[0, param.widthInMM, param.heightInMM, 0], interpolation='none', cmap='hot',\n",
    "           alpha=0.8)  # 0 fully transparent"
   ]
  },
  {
   "cell_type": "code",
   "execution_count": 8,
   "metadata": {
    "collapsed": false
   },
   "outputs": [
    {
     "name": "stdout",
     "output_type": "stream",
     "text": [
      "100%\n",
      "49.22s\n",
      "i1 - i:\n",
      "[-1078.7952092   -398.8474051   -389.16685     -254.4450522   -219.86618906]\n",
      "\n",
      "mz:\n",
      "[(166.0, 166.125), (116.0, 116.125), (120.0, 120.125), (156.0, 156.125), (104.875, 105.0)]\n",
      "\n",
      "i:\n",
      "[ 1474.87827656   547.76065487   542.6538873    332.87585946   294.8997076 ]\n",
      "i1:\n",
      "[ 396.08306736  148.91324976  153.48703729   78.43080726   75.03351853]\n",
      "c:\n",
      "[ 517 1457 4907  461 3184]\n",
      "c1:\n",
      "[  731  4030 14308   813  6349]\n",
      "range:\n",
      "0.125\n",
      "100%\n",
      "9.30s\n",
      "100%\n",
      "7.24s\n",
      "100%\n",
      "6.72s\n",
      "100%\n",
      "6.88s\n",
      "100%\n",
      "8.05s\n"
     ]
    },
    {
     "data": {
      "image/png": "[encoded data removed]",
      "text/plain": [
       "<matplotlib.figure.Figure at 0x285c14a0080>"
      ]
     },
     "metadata": {},
     "output_type": "display_data"
    },
    {
     "data": {
      "image/png": "[encoded data removed]",
      "text/plain": [
       "<matplotlib.figure.Figure at 0x285bd6b1240>"
      ]
     },
     "metadata": {},
     "output_type": "display_data"
    },
    {
     "data": {
      "image/png": "[encoded data removed]",
      "text/plain": [
       "<matplotlib.figure.Figure at 0x285c1544a20>"
      ]
     },
     "metadata": {},
     "output_type": "display_data"
    },
    {
     "data": {
      "image/png": "[encoded data removed]",
      "text/plain": [
       "<matplotlib.figure.Figure at 0x285c169e0f0>"
      ]
     },
     "metadata": {},
     "output_type": "display_data"
    },
    {
     "data": {
      "image/png": "[encoded data removed]",
      "text/plain": [
       "<matplotlib.figure.Figure at 0x285c169e080>"
      ]
     },
     "metadata": {},
     "output_type": "display_data"
    }
   ],
   "source": [
    "# Calculate optimal mass based on template\n",
    "optimalMz = OptimalMz.V2(loadMZML, mzRangeLower=50, mzRangeHighest=200, resolution=1200,\n",
    "                         templateClass=templateOverlay)\n",
    "optimalMz.printN()\n",
    "for i, j in optimalMz.getN(5):\n",
    "    plotImage.plotImshowII((i, j))"
   ]
  },
  {
   "cell_type": "code",
   "execution_count": null,
   "metadata": {
    "collapsed": true
   },
   "outputs": [],
   "source": []
  }
 ],
 "metadata": {
  "kernelspec": {
   "display_name": "Python 3",
   "language": "python",
   "name": "python3"
  },
  "language_info": {
   "codemirror_mode": {
    "name": "ipython",
    "version": 3
   },
   "file_extension": ".py",
   "mimetype": "text/x-python",
   "name": "python",
   "nbconvert_exporter": "python",
   "pygments_lexer": "ipython3",
   "version": "3.5.1"
  }
 },
 "nbformat": 4,
 "nbformat_minor": 0
}
