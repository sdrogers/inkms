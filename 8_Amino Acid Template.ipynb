{
 "cells": [
  {
   "cell_type": "code",
   "execution_count": 13,
   "metadata": {
    "collapsed": true
   },
   "outputs": [],
   "source": [
    "# coding: utf-8\n",
    "import sys\n",
    "import numpy as np\n",
    "import matplotlib.pyplot as plt\n",
    "from PIL import Image\n",
    "import time\n",
    "from numpy import eye\n",
    "from LoadMZML import LoadMZML\n",
    "from OptimalMz import OptimalMz\n",
    "from PlotImage import PlotImage\n",
    "from TemplateOverlay import TemplateOverlay\n",
    "% matplotlib inline"
   ]
  },
  {
   "cell_type": "markdown",
   "metadata": {},
   "source": [
    "# Parameters"
   ]
  },
  {
   "cell_type": "code",
   "execution_count": 14,
   "metadata": {
    "collapsed": true
   },
   "outputs": [],
   "source": [
    "class Parameters:\n",
    "    def __init__(self):\n",
    "        #  self.filename = '/Users/simon/Dropbox/MS_Ink_Data/ALphabet/abcdefgh_1.mzML'\n",
    "        self.filename = '..\\\\data\\\\AA_Array_2.mzML'\n",
    "        self.lines = 6\n",
    "        self.widthInMM = 50\n",
    "        self.heightInMM = 15\n",
    "        self.downMotionInMM = 3\n",
    "        \n",
    "template_path = '..\\\\data\\\\aminoacid.png'\n",
    "#template_path = '..\\\\data\\\\aminoacid_Cell1.png'\n",
    "generated_b = 4\n",
    "generated_e = 148\n",
    "template_b = 4\n",
    "template_e = 148\n",
    "plotValues = (104.75, 105.0)"
   ]
  },
  {
   "cell_type": "markdown",
   "metadata": {},
   "source": [
    "Used to find parameters"
   ]
  },
  {
   "cell_type": "code",
   "execution_count": 15,
   "metadata": {
    "collapsed": true
   },
   "outputs": [],
   "source": [
    "#PlotImage(loadMZML, param).save(\"aminoacid_gen\",plotValues)"
   ]
  },
  {
   "cell_type": "code",
   "execution_count": 16,
   "metadata": {
    "collapsed": false
   },
   "outputs": [],
   "source": [
    "param = Parameters()\n",
    "loadMZML = LoadMZML(param,'positive')\n",
    "plotImage = PlotImage(loadMZML, param)\n",
    "templateOverlay = TemplateOverlay(loadMZML, param)"
   ]
  },
  {
   "cell_type": "markdown",
   "metadata": {},
   "source": [
    "Template Image"
   ]
  },
  {
   "cell_type": "code",
   "execution_count": 17,
   "metadata": {
    "collapsed": false
   },
   "outputs": [
    {
     "data": {
      "text/plain": [
       "<matplotlib.image.AxesImage at 0x22fd0c7d9e8>"
      ]
     },
     "execution_count": 17,
     "metadata": {},
     "output_type": "execute_result"
    },
    {
     "data": {
      "image/png": "[encoded data removed]",
      "text/plain": [
       "<matplotlib.figure.Figure at 0x22fd0ff1c18>"
      ]
     },
     "metadata": {},
     "output_type": "display_data"
    }
   ],
   "source": [
    "template = Image.open(template_path)\n",
    "plt.figure()\n",
    "plt.imshow(np.asarray(template), cmap='Greys_r')"
   ]
  },
  {
   "cell_type": "markdown",
   "metadata": {},
   "source": [
    "Black and White"
   ]
  },
  {
   "cell_type": "code",
   "execution_count": 18,
   "metadata": {
    "collapsed": false
   },
   "outputs": [
    {
     "data": {
      "text/plain": [
       "<matplotlib.image.AxesImage at 0x22fd0ce1048>"
      ]
     },
     "execution_count": 18,
     "metadata": {},
     "output_type": "execute_result"
    },
    {
     "data": {
      "image/png": "[encoded data removed]",
      "text/plain": [
       "<matplotlib.figure.Figure at 0x22fd1955f98>"
      ]
     },
     "metadata": {},
     "output_type": "display_data"
    }
   ],
   "source": [
    "template = templateOverlay.RGBtoBW(template_path)\n",
    "plt.figure()\n",
    "plt.imshow(np.asarray(template), cmap='Greys_r')"
   ]
  },
  {
   "cell_type": "markdown",
   "metadata": {},
   "source": [
    "# Overlay template and generated"
   ]
  },
  {
   "cell_type": "code",
   "execution_count": 19,
   "metadata": {
    "collapsed": false
   },
   "outputs": [
    {
     "name": "stdout",
     "output_type": "stream",
     "text": [
      "100%\n",
      "5.14s\n"
     ]
    },
    {
     "data": {
      "text/plain": [
       "<matplotlib.image.AxesImage at 0x22fd1959048>"
      ]
     },
     "execution_count": 19,
     "metadata": {},
     "output_type": "execute_result"
    },
    {
     "data": {
      "image/png": "[encoded data removed]",
      "text/plain": [
       "<matplotlib.figure.Figure at 0x22fd1722710>"
      ]
     },
     "metadata": {},
     "output_type": "display_data"
    }
   ],
   "source": [
    "template = templateOverlay.alignTemplate(generated_b, generated_e, template_b, template_e, template)\n",
    "generated = templateOverlay.alignGenerated(generated_b, generated_e, template_b, template_e, plotValues)\n",
    "template, generated = templateOverlay.alignment(template, generated)\n",
    "\n",
    "plt.figure()\n",
    "plt.imshow(np.asarray(generated), extent=[0, param.widthInMM, 0, param.heightInMM], interpolation='none', cmap='hot')\n",
    "plt.imshow(np.asarray(template), extent=[0, param.widthInMM, 0, param.heightInMM], interpolation='none', cmap='hot',\n",
    "           alpha=0.8)  # 0 fully transparent"
   ]
  },
  {
   "cell_type": "code",
   "execution_count": 20,
   "metadata": {
    "collapsed": false
   },
   "outputs": [
    {
     "name": "stdout",
     "output_type": "stream",
     "text": [
      "100%\n",
      "44.79s\n",
      "i1 - i:\n",
      "[-1078.7952092   -398.8474051   -389.16685     -254.4450522   -219.86618906]\n",
      "\n",
      "mz:\n",
      "[(166.0, 166.125), (116.0, 116.125), (120.0, 120.125), (156.0, 156.125), (104.875, 105.0)]\n",
      "\n",
      "i:\n",
      "[ 1474.87827656   547.76065487   542.6538873    332.87585946   294.8997076 ]\n",
      "i1:\n",
      "[ 396.08306736  148.91324976  153.48703729   78.43080726   75.03351853]\n",
      "c:\n",
      "[ 517 1457 4907  461 3184]\n",
      "c1:\n",
      "[  731  4030 14308   813  6349]\n",
      "range:\n",
      "0.125\n",
      "100%\n",
      "5.89s\n",
      "100%\n",
      "5.02s\n",
      "100%\n",
      "5.29s\n",
      "100%\n",
      "5.00s\n",
      "100%\n",
      "5.03s\n"
     ]
    },
    {
     "data": {
      "image/png": "[encoded data removed]",
      "text/plain": [
       "<matplotlib.figure.Figure at 0x22fd0d15d68>"
      ]
     },
     "metadata": {},
     "output_type": "display_data"
    },
    {
     "data": {
      "image/png": "[encoded data removed]",
      "text/plain": [
       "<matplotlib.figure.Figure at 0x22fd1047f60>"
      ]
     },
     "metadata": {},
     "output_type": "display_data"
    },
    {
     "data": {
      "image/png": "[encoded data removed]",
      "text/plain": [
       "<matplotlib.figure.Figure at 0x22fd17e23c8>"
      ]
     },
     "metadata": {},
     "output_type": "display_data"
    },
    {
     "data": {
      "image/png": "[encoded data removed]",
      "text/plain": [
       "<matplotlib.figure.Figure at 0x22fd187dbe0>"
      ]
     },
     "metadata": {},
     "output_type": "display_data"
    },
    {
     "data": {
      "image/png": "[encoded data removed]",
      "text/plain": [
       "<matplotlib.figure.Figure at 0x22fd2b8ca20>"
      ]
     },
     "metadata": {},
     "output_type": "display_data"
    }
   ],
   "source": [
    "# Calculate optimal mass based on template\n",
    "optimalMz = OptimalMz.V2(loadMZML, mzRangeLower=50, mzRangeHighest=200, resolution=1200,\n",
    "                         templateClass=templateOverlay)\n",
    "optimalMz.printN()\n",
    "for i, j in optimalMz.getN(5):\n",
    "    plotImage.plotImshowII((i, j))"
   ]
  },
  {
   "cell_type": "code",
   "execution_count": null,
   "metadata": {
    "collapsed": true
   },
   "outputs": [],
   "source": []
  }
 ],
 "metadata": {
  "kernelspec": {
   "display_name": "Python 3",
   "language": "python",
   "name": "python3"
  },
  "language_info": {
   "codemirror_mode": {
    "name": "ipython",
    "version": 3
   },
   "file_extension": ".py",
   "mimetype": "text/x-python",
   "name": "python",
   "nbconvert_exporter": "python",
   "pygments_lexer": "ipython3",
   "version": "3.5.1"
  }
 },
 "nbformat": 4,
 "nbformat_minor": 0
}
