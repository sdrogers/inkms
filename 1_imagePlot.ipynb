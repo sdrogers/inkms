{
 "cells": [
  {
   "cell_type": "code",
   "execution_count": 1,
   "metadata": {
    "collapsed": false
   },
   "outputs": [],
   "source": [
    "# coding: utf-8\n",
    "import sys\n",
    "import numpy as np\n",
    "import matplotlib.pyplot as plt\n",
    "from PIL import Image\n",
    "import time\n",
    "from numpy import eye\n",
    "from LoadMZML import LoadMZML\n",
    "from OptimalMz import OptimalMz\n",
    "from PlotImage import PlotImage\n",
    "from TemplateOverlay import TemplateOverlay\n",
    "% matplotlib inline"
   ]
  },
  {
   "cell_type": "markdown",
   "metadata": {},
   "source": [
    "# Parameters"
   ]
  },
  {
   "cell_type": "code",
   "execution_count": 2,
   "metadata": {
    "collapsed": true
   },
   "outputs": [],
   "source": [
    "class Parameters:\n",
    "    def __init__(self):\n",
    "        #  self.filename = '/Users/simon/Dropbox/MS_Ink_Data/ALphabet/abcdefgh_1.mzML'\n",
    "        self.filename = '..\\\\data\\\\abcdefgh_1.mzML'\n",
    "        self.lines = 8\n",
    "        self.widthInMM = 62\n",
    "        self.heightInMM = 10\n",
    "        self.downMotionInMM = 1.25"
   ]
  },
  {
   "cell_type": "code",
   "execution_count": 3,
   "metadata": {
    "collapsed": true
   },
   "outputs": [],
   "source": [
    "param = Parameters()\n",
    "loadMZML = LoadMZML(param)\n",
    "plotImage = PlotImage(loadMZML, param)"
   ]
  },
  {
   "cell_type": "markdown",
   "metadata": {},
   "source": [
    "# For each pixel sum the intensities \n",
    "from mzRangeLower to mzRangeHighest"
   ]
  },
  {
   "cell_type": "code",
   "execution_count": 4,
   "metadata": {
    "collapsed": false
   },
   "outputs": [
    {
     "name": "stdout",
     "output_type": "stream",
     "text": [
      "100%\n",
      "11.55s\n"
     ]
    },
    {
     "data": {
      "image/png": "[encoded data removed]",
      "text/plain": [
       "<matplotlib.figure.Figure at 0x22cb7821b70>"
      ]
     },
     "metadata": {},
     "output_type": "display_data"
    }
   ],
   "source": [
    "# plotImage.plotImshow(mzRangeLower=374, mzRangeHighest=376)\n",
    "plotImage.plotImshowII((324, 326),(374, 376))"
   ]
  },
  {
   "cell_type": "code",
   "execution_count": 5,
   "metadata": {
    "collapsed": false
   },
   "outputs": [
    {
     "name": "stdout",
     "output_type": "stream",
     "text": [
      "0.28 - 487.00\n",
      "498.33 - 985.00\n",
      "996.33 - 1482.95\n",
      "1494.33 - 1981.04\n",
      "1992.37 - 2479.10\n",
      "2490.38 - 2977.11\n",
      "2988.44 - 3475.13\n",
      "3486.46 - 3973.19\n"
     ]
    }
   ],
   "source": [
    "plotImage.printRT()\n",
    "# plotImage.save('plotImage_324-326_374-376', (324, 326), (374, 376))"
   ]
  },
  {
   "cell_type": "code",
   "execution_count": null,
   "metadata": {
    "collapsed": true
   },
   "outputs": [],
   "source": []
  }
 ],
 "metadata": {
  "kernelspec": {
   "display_name": "Python 3",
   "language": "python",
   "name": "python3"
  },
  "language_info": {
   "codemirror_mode": {
    "name": "ipython",
    "version": 3
   },
   "file_extension": ".py",
   "mimetype": "text/x-python",
   "name": "python",
   "nbconvert_exporter": "python",
   "pygments_lexer": "ipython3",
   "version": "3.5.1"
  }
 },
 "nbformat": 4,
 "nbformat_minor": 0
}
