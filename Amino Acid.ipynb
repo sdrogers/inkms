{
 "cells": [
  {
   "cell_type": "code",
   "execution_count": 1,
   "metadata": {
    "collapsed": true
   },
   "outputs": [],
   "source": [
    "# coding: utf-8\n",
    "import sys\n",
    "import numpy as np\n",
    "import matplotlib.pyplot as plt\n",
    "from PIL import Image\n",
    "import time\n",
    "from numpy import eye\n",
    "from LoadMZML import LoadMZML\n",
    "from OptimalMz import OptimalMz\n",
    "from PlotImage import PlotImage\n",
    "from TemplateOverlay import TemplateOverlay\n",
    "% matplotlib inline"
   ]
  },
  {
   "cell_type": "markdown",
   "metadata": {},
   "source": [
    "# Parameters"
   ]
  },
  {
   "cell_type": "code",
   "execution_count": 2,
   "metadata": {
    "collapsed": true
   },
   "outputs": [],
   "source": [
    "class Parameters2:\n",
    "    def __init__(self):\n",
    "        #  self.filename = '/Users/simon/Dropbox/MS_Ink_Data/ALphabet/abcdefgh_1.mzML'\n",
    "        self.filename = '..\\\\data\\\\AA_Array_2.mzML'\n",
    "        self.lines = 6\n",
    "        self.widthInMM = 50\n",
    "        self.heightInMM = 15\n",
    "        self.downMotionInMM = 2.5"
   ]
  },
  {
   "cell_type": "code",
   "execution_count": 3,
   "metadata": {
    "collapsed": true
   },
   "outputs": [],
   "source": [
    "param = Parameters2()\n",
    "loadMZML = LoadMZML(param, 'positive')\n",
    "plotImage = PlotImage(loadMZML, param)"
   ]
  },
  {
   "cell_type": "markdown",
   "metadata": {},
   "source": [
    "# Cell 1"
   ]
  },
  {
   "cell_type": "code",
   "execution_count": 22,
   "metadata": {
    "collapsed": false
   },
   "outputs": [
    {
     "name": "stdout",
     "output_type": "stream",
     "text": [
      "100%\n",
      "134.61s\n",
      "i1 - i:\n",
      "[-89.70241872 -87.29400718 -70.44416969 -60.56370959 -55.1178148 ]\n",
      "\n",
      "mz:\n",
      "185.0-185.25\t 101.0-101.25\t 135.0-135.25\t 139.0-139.25\t 95.0-95.25\t \n",
      "i:\n",
      "[ 828.2984837   703.43440149  283.52110976  569.76674564  709.09613969]\n",
      "i1:\n",
      "[ 738.59606498  616.14039431  213.07694007  509.20303605  653.97832489]\n",
      "range:\n",
      "0.25\n"
     ]
    }
   ],
   "source": [
    "optimalMz = OptimalMz.V1(loadMZML, x_start_mm=0, x_stop_mm=6.25, y_start_mm=0, y_stop_mm=4,\n",
    "                         mzRangeLower=50, mzRangeHighest=200, resolution=600)\n",
    "optimalMz.printN()"
   ]
  },
  {
   "cell_type": "code",
   "execution_count": 23,
   "metadata": {
    "collapsed": false
   },
   "outputs": [
    {
     "name": "stdout",
     "output_type": "stream",
     "text": [
      "100%\n",
      "14.37s\n"
     ]
    },
    {
     "data": {
      "image/png": "[encoded data removed]",
      "text/plain": [
       "<matplotlib.figure.Figure at 0x27f45e57358>"
      ]
     },
     "metadata": {},
     "output_type": "display_data"
    }
   ],
   "source": [
    "plotImage.plotImshowII((185.0,185.25))"
   ]
  },
  {
   "cell_type": "code",
   "execution_count": 24,
   "metadata": {
    "collapsed": false
   },
   "outputs": [
    {
     "name": "stdout",
     "output_type": "stream",
     "text": [
      "100%\n",
      "14.15s\n"
     ]
    },
    {
     "data": {
      "image/png": "[encoded data removed]",
      "text/plain": [
       "<matplotlib.figure.Figure at 0x27f45d6a4a8>"
      ]
     },
     "metadata": {},
     "output_type": "display_data"
    }
   ],
   "source": [
    "plotImage.plotImshowII((101.0,101.25))"
   ]
  },
  {
   "cell_type": "code",
   "execution_count": 27,
   "metadata": {
    "collapsed": false
   },
   "outputs": [
    {
     "name": "stdout",
     "output_type": "stream",
     "text": [
      "100%\n",
      "13.66s\n"
     ]
    },
    {
     "data": {
      "image/png": "[encoded data removed]",
      "text/plain": [
       "<matplotlib.figure.Figure at 0x27f45d70b38>"
      ]
     },
     "metadata": {},
     "output_type": "display_data"
    }
   ],
   "source": [
    "plotImage.plotImshowII((139.0,139.25))"
   ]
  },
  {
   "cell_type": "markdown",
   "metadata": {},
   "source": [
    "# Cell 2"
   ]
  },
  {
   "cell_type": "code",
   "execution_count": 29,
   "metadata": {
    "collapsed": false
   },
   "outputs": [
    {
     "name": "stdout",
     "output_type": "stream",
     "text": [
      "100%\n",
      "125.46s\n",
      "i1 - i:\n",
      "[-249.72680931 -208.37284368  -82.75928641  -74.68723751  -70.09383375]\n",
      "\n",
      "mz:\n",
      "104.0-104.25\t 150.0-150.25\t 194.0-194.25\t 133.0-133.25\t 139.0-139.25\t \n",
      "i:\n",
      "[ 332.00399618  500.44675124  134.25880367  257.29641428  578.96174423]\n",
      "i1:\n",
      "[  82.27718687  292.07390755   51.49951725  182.60917677  508.86791048]\n",
      "range:\n",
      "0.25\n"
     ]
    }
   ],
   "source": [
    "optimalMz = OptimalMz.V1(loadMZML, x_start_mm=6.25, x_stop_mm=12.5, y_start_mm=0, y_stop_mm=4,\n",
    "                         mzRangeLower=50, mzRangeHighest=200, resolution=600)\n",
    "optimalMz.printN()"
   ]
  },
  {
   "cell_type": "code",
   "execution_count": 28,
   "metadata": {
    "collapsed": false
   },
   "outputs": [
    {
     "name": "stdout",
     "output_type": "stream",
     "text": [
      "100%\n",
      "13.82s\n"
     ]
    },
    {
     "data": {
      "image/png": "[encoded data removed]",
      "text/plain": [
       "<matplotlib.figure.Figure at 0x27f45e218d0>"
      ]
     },
     "metadata": {},
     "output_type": "display_data"
    }
   ],
   "source": [
    "plotImage.plotImshowII((104.0,104.25))"
   ]
  },
  {
   "cell_type": "code",
   "execution_count": 13,
   "metadata": {
    "collapsed": false
   },
   "outputs": [
    {
     "name": "stdout",
     "output_type": "stream",
     "text": [
      "100%\n",
      "16.44s\n"
     ]
    },
    {
     "data": {
      "image/png": "[encoded data removed]",
      "text/plain": [
       "<matplotlib.figure.Figure at 0x27f45e300f0>"
      ]
     },
     "metadata": {},
     "output_type": "display_data"
    }
   ],
   "source": [
    "plotImage.plotImshowII((150.0, 150.25))"
   ]
  },
  {
   "cell_type": "markdown",
   "metadata": {},
   "source": [
    "# Cell 3"
   ]
  },
  {
   "cell_type": "code",
   "execution_count": 19,
   "metadata": {
    "collapsed": false
   },
   "outputs": [
    {
     "name": "stdout",
     "output_type": "stream",
     "text": [
      "100%\n",
      "153.56s\n",
      "i1 - i:\n",
      "[-99.33403943 -76.55120268 -62.20524836 -50.72109985 -35.5970057 ]\n",
      "\n",
      "mz:\n",
      "175.0-175.25\t 139.0-139.25\t 70.0-70.25\t 158.75-159.0\t 157.75-158.0\t \n",
      "i:\n",
      "[  182.09810038   585.39752442  1037.58984193    50.72109985    35.5970057 ]\n",
      "i1:\n",
      "[  82.76406095  508.84632173  975.38459357    0.            0.        ]\n",
      "range:\n",
      "0.25\n"
     ]
    }
   ],
   "source": [
    "optimalMz = OptimalMz.V1(loadMZML, x_start_mm=12.5, x_stop_mm=18.75, y_start_mm=0, y_stop_mm=4,\n",
    "                         mzRangeLower=50, mzRangeHighest=200, resolution=600)\n",
    "optimalMz.printN()"
   ]
  },
  {
   "cell_type": "code",
   "execution_count": 20,
   "metadata": {
    "collapsed": false
   },
   "outputs": [
    {
     "name": "stdout",
     "output_type": "stream",
     "text": [
      "100%\n",
      "14.39s\n"
     ]
    },
    {
     "data": {
      "image/png": "[encoded data removed]",
      "text/plain": [
       "<matplotlib.figure.Figure at 0x27f45d69588>"
      ]
     },
     "metadata": {},
     "output_type": "display_data"
    }
   ],
   "source": [
    "plotImage.plotImshowII((175.0,175.25))"
   ]
  },
  {
   "cell_type": "markdown",
   "metadata": {},
   "source": [
    "# Cell 9"
   ]
  },
  {
   "cell_type": "code",
   "execution_count": 15,
   "metadata": {
    "collapsed": false
   },
   "outputs": [
    {
     "name": "stdout",
     "output_type": "stream",
     "text": [
      "100%\n",
      "144.85s\n",
      "i1 - i:\n",
      "[-663.95093813 -191.90748612 -186.7098332  -144.56440201 -104.25839366]\n",
      "\n",
      "mz:\n",
      "132.0-132.25\t 199.0-199.25\t 112.0-112.25\t 86.0-86.25\t 104.75-105.0\t \n",
      "i:\n",
      "[  770.52331809  6744.02824241  6120.16979282   446.43627755   247.02665273]\n",
      "i1:\n",
      "[  106.57237995  6552.12075629  5933.45995961   301.87187553   142.76825908]\n",
      "range:\n",
      "0.25\n"
     ]
    }
   ],
   "source": [
    "optimalMz = OptimalMz.V1(loadMZML, x_start_mm=0, x_stop_mm=6.25, y_start_mm=5, y_stop_mm=10,\n",
    "                         mzRangeLower=50, mzRangeHighest=200, resolution=600)\n",
    "optimalMz.printN()"
   ]
  },
  {
   "cell_type": "code",
   "execution_count": 16,
   "metadata": {
    "collapsed": false
   },
   "outputs": [
    {
     "name": "stdout",
     "output_type": "stream",
     "text": [
      "100%\n",
      "14.45s\n"
     ]
    },
    {
     "data": {
      "image/png": "[encoded data removed]",
      "text/plain": [
       "<matplotlib.figure.Figure at 0x27f466b1ba8>"
      ]
     },
     "metadata": {},
     "output_type": "display_data"
    }
   ],
   "source": [
    "plotImage.plotImshowII((132.0,132.25))"
   ]
  },
  {
   "cell_type": "markdown",
   "metadata": {},
   "source": [
    "# Cell 21"
   ]
  },
  {
   "cell_type": "code",
   "execution_count": 34,
   "metadata": {
    "collapsed": false
   },
   "outputs": [
    {
     "name": "stdout",
     "output_type": "stream",
     "text": [
      "100%\n",
      "158.11s\n",
      "i1 - i:\n",
      "[-456.58013796 -385.74360521 -222.23023625  -53.86654093  -45.31026723]\n",
      "\n",
      "mz:\n",
      "110.0-110.25\t 156.0-156.25\t 124.0-124.25\t 82.0-82.25\t 118.75-119.0\t \n",
      "i:\n",
      "[ 593.0201326   479.33115014  311.13643364  110.49994371   45.31026723]\n",
      "i1:\n",
      "[ 136.43999463   93.58754493   88.90619739   56.63340278    0.        ]\n",
      "range:\n",
      "0.25\n"
     ]
    }
   ],
   "source": [
    "optimalMz = OptimalMz.V1(loadMZML, x_start_mm=25, x_stop_mm=31, y_start_mm=10, y_stop_mm=15,\n",
    "                         mzRangeLower=50, mzRangeHighest=200, resolution=600)\n",
    "optimalMz.printN()"
   ]
  },
  {
   "cell_type": "code",
   "execution_count": 35,
   "metadata": {
    "collapsed": false
   },
   "outputs": [
    {
     "name": "stdout",
     "output_type": "stream",
     "text": [
      "100%\n",
      "15.06s\n"
     ]
    },
    {
     "data": {
      "image/png": "[encoded data removed]",
      "text/plain": [
       "<matplotlib.figure.Figure at 0x27f45ed5668>"
      ]
     },
     "metadata": {},
     "output_type": "display_data"
    }
   ],
   "source": [
    "plotImage.plotImshowII((110.0,110.25))"
   ]
  },
  {
   "cell_type": "code",
   "execution_count": 36,
   "metadata": {
    "collapsed": false
   },
   "outputs": [
    {
     "name": "stdout",
     "output_type": "stream",
     "text": [
      "100%\n",
      "16.89s\n"
     ]
    },
    {
     "data": {
      "image/png": "[encoded data removed]",
      "text/plain": [
       "<matplotlib.figure.Figure at 0x27f45dc8a90>"
      ]
     },
     "metadata": {},
     "output_type": "display_data"
    }
   ],
   "source": [
    "plotImage.plotImshowII((156.0,156.25))"
   ]
  },
  {
   "cell_type": "markdown",
   "metadata": {},
   "source": [
    "# Cell 22"
   ]
  },
  {
   "cell_type": "markdown",
   "metadata": {},
   "source": [
    "Not strong effect, Sensitive to x margin"
   ]
  },
  {
   "cell_type": "code",
   "execution_count": 45,
   "metadata": {
    "collapsed": false
   },
   "outputs": [
    {
     "name": "stdout",
     "output_type": "stream",
     "text": [
      "100%\n",
      "130.16s\n",
      "i1 - i:\n",
      "[-38.11676554 -35.58824246 -25.0746795  -23.97295556 -22.40676173]\n",
      "\n",
      "mz:\n",
      "162.25-162.5\t 159.25-159.5\t 72.5-72.75\t 99.25-99.5\t 81.5-81.75\t \n",
      "i:\n",
      "[ 38.11676554  35.58824246  33.08515821  23.97295556  24.28916667]\n",
      "i1:\n",
      "[ 0.          0.          8.01047872  0.          1.88240494]\n",
      "range:\n",
      "0.25\n"
     ]
    }
   ],
   "source": [
    "optimalMz = OptimalMz.V1(loadMZML, x_start_mm=32, x_stop_mm=36, y_start_mm=12, y_stop_mm=15,\n",
    "                         mzRangeLower=50, mzRangeHighest=200, resolution=600)\n",
    "optimalMz.printN()"
   ]
  },
  {
   "cell_type": "code",
   "execution_count": 46,
   "metadata": {
    "collapsed": false
   },
   "outputs": [
    {
     "name": "stdout",
     "output_type": "stream",
     "text": [
      "100%\n",
      "13.53s\n"
     ]
    },
    {
     "data": {
      "image/png": "[encoded data removed]",
      "text/plain": [
       "<matplotlib.figure.Figure at 0x27f45db50f0>"
      ]
     },
     "metadata": {},
     "output_type": "display_data"
    }
   ],
   "source": [
    "plotImage.plotImshowII((162.25,162.5))"
   ]
  },
  {
   "cell_type": "code",
   "execution_count": null,
   "metadata": {
    "collapsed": true
   },
   "outputs": [],
   "source": []
  }
 ],
 "metadata": {
  "kernelspec": {
   "display_name": "Python 3",
   "language": "python",
   "name": "python3"
  },
  "language_info": {
   "codemirror_mode": {
    "name": "ipython",
    "version": 3
   },
   "file_extension": ".py",
   "mimetype": "text/x-python",
   "name": "python",
   "nbconvert_exporter": "python",
   "pygments_lexer": "ipython3",
   "version": "3.5.1"
  }
 },
 "nbformat": 4,
 "nbformat_minor": 0
}
